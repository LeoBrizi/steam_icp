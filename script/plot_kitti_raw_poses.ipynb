{
 "cells": [
  {
   "cell_type": "code",
   "execution_count": 1,
   "metadata": {},
   "outputs": [],
   "source": [
    "import os.path as osp\n",
    "import numpy as np\n",
    "import numpy.linalg as npla\n",
    "np.set_printoptions(6, suppress=True)\n",
    "import matplotlib.pyplot as plt\n",
    "%matplotlib inline\n",
    "%matplotlib widget\n",
    "plt.rcParams.update({\n",
    "    \"text.usetex\": True,\n",
    "    \"font.family\": \"serif\",\n",
    "    \"font.serif\": [\"Times\"],\n",
    "    'font.size': 7,\n",
    "})\n",
    "\n",
    "import utils\n",
    "\n",
    "def load_pred_poses(filename):\n",
    "    data = np.loadtxt(filename)\n",
    "    poses = []\n",
    "    for v in data:\n",
    "        T_ms = np.eye(4)\n",
    "        T_ms[:3, :] = v.reshape(3, 4)\n",
    "        poses.append(T_ms)\n",
    "    return np.array(poses)\n",
    "\n",
    "def load_gt_poses(filename):\n",
    "    data = np.loadtxt(filename)\n",
    "    poses = []\n",
    "    for v in data:\n",
    "        T_ms = np.eye(4)\n",
    "        T_ms[:3, :] = v.reshape(3, 4)\n",
    "        poses.append(T_ms)\n",
    "    return np.array(poses)\n",
    "\n",
    "\n",
    "gt_path = '/home/yuchen/ASRL/data/kitti_raw'\n",
    "pred_path = '/home/yuchen/ASRL/steam_icp/results/kitti_raw/'"
   ]
  },
  {
   "cell_type": "code",
   "execution_count": 2,
   "metadata": {},
   "outputs": [
    {
     "name": "stdout",
     "output_type": "stream",
     "text": [
      "\n",
      "elastic_icp\n",
      "  00   01   02   04   05   06   07   08   09   10 \n",
      "steam_icp\n",
      "  00   01   02   04   05   06   07   08   09   10 \n",
      "kitti metric t_err_2d\n",
      "elastic_icp  & 0.39 & 0.66 & 0.45 & 0.34 & 0.20 & 0.26 & 0.27 & 0.69 & 0.40 & 0.42  & 0.45\n",
      "steam_icp  & 0.39 & 0.60 & 0.43 & 0.31 & 0.20 & 0.24 & 0.23 & 0.70 & 0.37 & 0.46  & 0.44\n",
      "\n",
      "kitti metric t_err_3d\n",
      "elastic_icp  & 0.50 & 0.74 & 0.52 & 0.39 & 0.25 & 0.30 & 0.35 & 0.81 & 0.49 & 0.49  & 0.53\n",
      "steam_icp  & 0.49 & 0.65 & 0.50 & 0.38 & 0.26 & 0.28 & 0.32 & 0.81 & 0.46 & 0.53  & 0.52\n",
      "\n",
      "kitti metric r_err_2d\n",
      "elastic_icp  & 0.0005 & 0.0004 & 0.0005 & 0.0002 & 0.0003 & 0.0002 & 0.0007 & 0.0005 & 0.0004 & 0.0005  & 0.0005\n",
      "steam_icp  & 0.0003 & 0.0002 & 0.0003 & 0.0004 & 0.0002 & 0.0002 & 0.0004 & 0.0004 & 0.0003 & 0.0004  & 0.0003\n",
      "\n",
      "kitti metric r_err_3d\n",
      "elastic_icp  & 0.0018 & 0.0009 & 0.0012 & 0.0005 & 0.0010 & 0.0008 & 0.0019 & 0.0018 & 0.0012 & 0.0014  & 0.0014\n",
      "steam_icp  & 0.0017 & 0.0010 & 0.0012 & 0.0006 & 0.0012 & 0.0007 & 0.0014 & 0.0018 & 0.0011 & 0.0015  & 0.0014\n",
      "\n",
      "frame-to-frame metric t_err_2d\n",
      "elastic_icp  & 0.0226 & 0.0277 & 0.0230 & 0.0141 & 0.0123 & 0.0115 & 0.0132 & 0.0353 & 0.0152 & 0.0181  & 0.0234\n",
      "steam_icp  & 0.0196 & 0.0249 & 0.0202 & 0.0108 & 0.0078 & 0.0084 & 0.0085 & 0.0339 & 0.0119 & 0.0141  & 0.0210\n",
      "\n",
      "frame-to-frame metric r_err_2d\n",
      "elastic_icp  & 0.0478 & 0.0188 & 0.0464 & 0.0196 & 0.0233 & 0.0090 & 0.0318 & 0.0340 & 0.0289 & 0.0457  & 0.0361\n",
      "steam_icp  & 0.0433 & 0.0192 & 0.0373 & 0.0148 & 0.0263 & 0.0132 & 0.0265 & 0.0305 & 0.0277 & 0.0434  & 0.0327\n",
      "\n",
      "frame-to-frame metric t_err_3d\n",
      "elastic_icp  & 0.0299 & 0.0400 & 0.0312 & 0.0491 & 0.0190 & 0.0268 & 0.0181 & 0.0404 & 0.0201 & 0.0235  & 0.0307\n",
      "steam_icp  & 0.0265 & 0.0386 & 0.0332 & 0.0762 & 0.0134 & 0.0355 & 0.0102 & 0.0385 & 0.0157 & 0.0169  & 0.0301\n",
      "\n",
      "frame-to-frame metric r_err_3d\n",
      "elastic_icp  & 0.0843 & 0.0524 & 0.0751 & 0.0214 & 0.0293 & 0.0124 & 0.0361 & 0.0407 & 0.0359 & 0.0565  & 0.0545\n",
      "steam_icp  & 0.0830 & 0.0509 & 0.0692 & 0.0186 & 0.0340 & 0.0179 & 0.0309 & 0.0391 & 0.0338 & 0.0554  & 0.0530\n"
     ]
    }
   ],
   "source": [
    "### compute kitti metric\n",
    "sequences = ['00', '01', '02', '04', '05', '06', '07', '08', '09', '10']\n",
    "methods = [\"elastic_icp\", \"steam_icp\"]\n",
    "load_gt_fn = lambda sequence: load_gt_poses(osp.join(gt_path, sequence, sequence + '.txt'))\n",
    "load_pred_fn = lambda sequence, pred_file: load_pred_poses(osp.join(pred_path, pred_file, sequence + '_poses.txt'))\n",
    "utils.print_results(sequences, methods, load_gt_fn, load_pred_fn)"
   ]
  }
 ],
 "metadata": {
  "kernelspec": {
   "display_name": "Python 3.8.10 64-bit",
   "language": "python",
   "name": "python3"
  },
  "language_info": {
   "codemirror_mode": {
    "name": "ipython",
    "version": 3
   },
   "file_extension": ".py",
   "mimetype": "text/x-python",
   "name": "python",
   "nbconvert_exporter": "python",
   "pygments_lexer": "ipython3",
   "version": "3.8.10"
  },
  "orig_nbformat": 4,
  "vscode": {
   "interpreter": {
    "hash": "31f2aee4e71d21fbe5cf8b01ff0e069b9275f58929596ceb00d14d90e3e16cd6"
   }
  }
 },
 "nbformat": 4,
 "nbformat_minor": 2
}
