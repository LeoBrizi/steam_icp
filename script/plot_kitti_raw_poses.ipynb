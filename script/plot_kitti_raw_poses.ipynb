{
 "cells": [
  {
   "cell_type": "code",
   "execution_count": 1,
   "metadata": {},
   "outputs": [],
   "source": [
    "import os.path as osp\n",
    "import numpy as np\n",
    "import numpy.linalg as npla\n",
    "np.set_printoptions(6, suppress=True)\n",
    "import matplotlib.pyplot as plt\n",
    "%matplotlib inline\n",
    "%matplotlib widget\n",
    "plt.rcParams.update({\n",
    "    \"text.usetex\": True,\n",
    "    \"font.family\": \"serif\",\n",
    "    \"font.serif\": [\"Times\"],\n",
    "    'font.size': 7,\n",
    "})\n",
    "\n",
    "import utils\n",
    "\n",
    "def load_pred_poses(filename):\n",
    "    data = np.loadtxt(filename)\n",
    "    poses = []\n",
    "    for v in data:\n",
    "        T_ms = np.eye(4)\n",
    "        T_ms[:3, :] = v.reshape(3, 4)\n",
    "        poses.append(T_ms)\n",
    "    return np.array(poses)\n",
    "\n",
    "def load_gt_poses(filename):\n",
    "    data = np.loadtxt(filename)\n",
    "    poses = []\n",
    "    for v in data:\n",
    "        T_ms = np.eye(4)\n",
    "        T_ms[:3, :] = v.reshape(3, 4)\n",
    "        poses.append(T_ms)\n",
    "    return np.array(poses)\n",
    "\n",
    "\n",
    "gt_path = '/media/yuchen/T7/ASRL/data/kitti_raw'\n",
    "pred_path = '/ext0/ASRL/steam_icp/results/kitti_raw/'\n",
    "sequences = ['00', '01', '02', '03', '04', '05', '06', '07', '08', '09', '10']"
   ]
  },
  {
   "cell_type": "code",
   "execution_count": 3,
   "metadata": {},
   "outputs": [
    {
     "name": "stdout",
     "output_type": "stream",
     "text": [
      "                    KITTI metric:     t(2d)  r(2d)    t      r          RPE:     t(2d)    r(2d)      t      r\n",
      "00:\n",
      "elastic_icp                         & 0.39 & 0.0005 & 0.50 & 0.0018            & 0.0226 & 0.0478 & 0.0299 & 0.0843 \\\\\n",
      "steam_icp                           & 0.39 & 0.0003 & 0.49 & 0.0017            & 0.0196 & 0.0433 & 0.0265 & 0.0830 \\\\\n",
      "01:\n",
      "elastic_icp                         & 0.66 & 0.0004 & 0.74 & 0.0009            & 0.0277 & 0.0188 & 0.0400 & 0.0524 \\\\\n",
      "steam_icp                           & 0.60 & 0.0002 & 0.65 & 0.0010            & 0.0249 & 0.0192 & 0.0386 & 0.0509 \\\\\n",
      "02:\n",
      "elastic_icp                         & 0.45 & 0.0005 & 0.52 & 0.0012            & 0.0230 & 0.0464 & 0.0312 & 0.0751 \\\\\n",
      "steam_icp                           & 0.43 & 0.0003 & 0.50 & 0.0012            & 0.0202 & 0.0373 & 0.0332 & 0.0692 \\\\\n",
      "04:\n",
      "elastic_icp                         & 0.34 & 0.0002 & 0.39 & 0.0005            & 0.0141 & 0.0196 & 0.0491 & 0.0214 \\\\\n",
      "steam_icp                           & 0.31 & 0.0004 & 0.38 & 0.0006            & 0.0108 & 0.0148 & 0.0762 & 0.0186 \\\\\n",
      "05:\n",
      "elastic_icp                         & 0.20 & 0.0003 & 0.25 & 0.0010            & 0.0123 & 0.0233 & 0.0190 & 0.0293 \\\\\n",
      "steam_icp                           & 0.20 & 0.0002 & 0.26 & 0.0012            & 0.0078 & 0.0263 & 0.0134 & 0.0340 \\\\\n",
      "06:\n",
      "elastic_icp                         & 0.26 & 0.0002 & 0.30 & 0.0008            & 0.0115 & 0.0090 & 0.0268 & 0.0124 \\\\\n",
      "steam_icp                           & 0.24 & 0.0002 & 0.28 & 0.0007            & 0.0084 & 0.0132 & 0.0355 & 0.0179 \\\\\n",
      "07:\n",
      "elastic_icp                         & 0.27 & 0.0007 & 0.35 & 0.0019            & 0.0132 & 0.0318 & 0.0181 & 0.0361 \\\\\n",
      "steam_icp                           & 0.23 & 0.0004 & 0.32 & 0.0014            & 0.0085 & 0.0265 & 0.0102 & 0.0309 \\\\\n",
      "08:\n",
      "elastic_icp                         & 0.69 & 0.0005 & 0.81 & 0.0018            & 0.0353 & 0.0340 & 0.0404 & 0.0407 \\\\\n",
      "steam_icp                           & 0.70 & 0.0004 & 0.81 & 0.0018            & 0.0339 & 0.0305 & 0.0385 & 0.0391 \\\\\n",
      "09:\n",
      "elastic_icp                         & 0.40 & 0.0004 & 0.49 & 0.0012            & 0.0152 & 0.0289 & 0.0201 & 0.0359 \\\\\n",
      "steam_icp                           & 0.37 & 0.0003 & 0.46 & 0.0011            & 0.0119 & 0.0277 & 0.0157 & 0.0338 \\\\\n",
      "10:\n",
      "elastic_icp                         & 0.42 & 0.0005 & 0.49 & 0.0014            & 0.0181 & 0.0457 & 0.0235 & 0.0565 \\\\\n",
      "steam_icp                           & 0.46 & 0.0004 & 0.53 & 0.0015            & 0.0141 & 0.0434 & 0.0169 & 0.0554 \\\\\n"
     ]
    }
   ],
   "source": [
    "### evaluate odometry\n",
    "print(f\"                    KITTI metric:     t(2d)  r(2d)    t      r          RPE:     t(2d)    r(2d)      t      r\")\n",
    "for sequence in sequences:\n",
    "  if sequence == '03': continue\n",
    "\n",
    "  print(f\"{sequence}:\")\n",
    "  gt_poses = load_gt_poses(osp.join(gt_path, sequence, sequence+'.txt'))\n",
    "\n",
    "  ##\n",
    "  pred_file = 'elastic_icp'\n",
    "  pred_poses = load_pred_poses(osp.join(pred_path, pred_file, sequence+'_poses.txt'))\n",
    "  # kitti metric\n",
    "  t_err_2d, r_err_2d, t_err, r_err, _ = utils.evaluate_odometry_kitti(gt_poses, pred_poses)\n",
    "  print(f\"{pred_file:<35} & {t_err_2d:.2f} & {r_err_2d:.4f} & {t_err:.2f} & {r_err:.4f}\", end = '')\n",
    "  # rpe metric\n",
    "  t_err_2d, r_err_2d, t_err, r_err, _ = utils.evaluate_odometry_rpe(gt_poses, pred_poses)\n",
    "  print(f\"            & {t_err_2d:.4f} & {r_err_2d:.4f} & {t_err:.4f} & {r_err:.4f} \\\\\\\\\")\n",
    "\n",
    "  ##\n",
    "  pred_file = 'steam_icp'\n",
    "  pred_poses = load_pred_poses(osp.join(pred_path, pred_file, sequence+'_poses.txt'))\n",
    "  # kitti metric\n",
    "  t_err_2d, r_err_2d, t_err, r_err, _ = utils.evaluate_odometry_kitti(gt_poses, pred_poses)\n",
    "  print(f\"{pred_file:<35} & {t_err_2d:.2f} & {r_err_2d:.4f} & {t_err:.2f} & {r_err:.4f}\", end = '')\n",
    "  # rpe metric\n",
    "  t_err_2d, r_err_2d, t_err, r_err, _ = utils.evaluate_odometry_rpe(gt_poses, pred_poses)\n",
    "  print(f\"            & {t_err_2d:.4f} & {r_err_2d:.4f} & {t_err:.4f} & {r_err:.4f} \\\\\\\\\")"
   ]
  }
 ],
 "metadata": {
  "kernelspec": {
   "display_name": "Python 3.8.10 ('venv')",
   "language": "python",
   "name": "python3"
  },
  "language_info": {
   "codemirror_mode": {
    "name": "ipython",
    "version": 3
   },
   "file_extension": ".py",
   "mimetype": "text/x-python",
   "name": "python",
   "nbconvert_exporter": "python",
   "pygments_lexer": "ipython3",
   "version": "3.8.10"
  },
  "orig_nbformat": 4,
  "vscode": {
   "interpreter": {
    "hash": "a44c3e6ab00d09cf4834e662fcdb3bfbaa01929724e4ff214c026fb53af95a5a"
   }
  }
 },
 "nbformat": 4,
 "nbformat_minor": 2
}
