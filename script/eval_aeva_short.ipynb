{
 "cells": [
  {
   "cell_type": "code",
   "execution_count": 1,
   "metadata": {},
   "outputs": [],
   "source": [
    "import os.path as osp\n",
    "import numpy as np\n",
    "import numpy.linalg as npla\n",
    "np.set_printoptions(6, suppress=True)\n",
    "import matplotlib.pyplot as plt\n",
    "%matplotlib inline\n",
    "%matplotlib widget\n",
    "plt.rcParams.update({\n",
    "    \"text.usetex\": False,\n",
    "    \"font.family\": \"sans-serif\",\n",
    "    \"font.serif\": [\"Helvetica\"],\n",
    "    'font.size': 7,\n",
    "})\n",
    "\n",
    "import utils\n",
    "\n",
    "\n",
    "def load_poses(filename):\n",
    "    data = np.loadtxt(filename)\n",
    "    poses = []\n",
    "    for v in data:\n",
    "        pose = np.eye(4)\n",
    "        pose[:3, :] = v.reshape(3, 4)\n",
    "        poses.append(pose)\n",
    "    return np.array(poses)\n",
    "\n",
    "\n",
    "def plot_pred_poses(ax, pred_poses, gt_poses, label, color):\n",
    "    T_gt_pred = gt_poses[0] @ npla.inv(pred_poses[0])\n",
    "    pred_poses = T_gt_pred @ pred_poses\n",
    "    ax.plot(pred_poses[:, 0, 3], pred_poses[:, 1, 3], label=label, linewidth=1.0, color=color)\n",
    "\n",
    "\n",
    "gt_path = '/home/ywu/ASRL/steam_icp/data/aeva'\n",
    "pred_path = '/home/ywu/ASRL/steam_icp/src/results/aeva_short/'"
   ]
  },
  {
   "cell_type": "code",
   "execution_count": 2,
   "metadata": {},
   "outputs": [
    {
     "name": "stdout",
     "output_type": "stream",
     "text": [
      "00:\n",
      "  distance: 865.1829905466136\n",
      "01:\n",
      "  distance: 894.3657150814564\n",
      "02:\n",
      "  distance: 688.6680784664675\n",
      "03:\n",
      "  distance: 4946.907046163074\n"
     ]
    }
   ],
   "source": [
    "### compute trajectory distance\n",
    "sequences = [\n",
    "    '00',  # Baker-Barry Tunnel (Empty)\n",
    "    '01',  # Baker-Barry Tunnel (Vehicles)\n",
    "    '02',  # Robin Williams Tunnel\n",
    "    '03',  # Brisbane Lagoon Freeway\n",
    "]\n",
    "\n",
    "for sequence in sequences:\n",
    "  print(f\"{sequence}:\")\n",
    "  gt_poses = load_poses(osp.join(gt_path, sequence, 'aeva_poses.txt'))\n",
    "  distance = utils.trajectory_distances(gt_poses)[-1]\n",
    "  print(f\"  distance: {distance}\")"
   ]
  },
  {
   "cell_type": "code",
   "execution_count": 3,
   "metadata": {},
   "outputs": [
    {
     "name": "stdout",
     "output_type": "stream",
     "text": [
      "\n",
      "doppler_icp\n",
      "  00   01   02   03 \n",
      "elastic_icp\n",
      "  00   01   02   03 \n",
      "steam_icp\n",
      "  00   01   02   03 \n",
      "steam_dicp\n",
      "  00   01   02   03 \n",
      "\n",
      "\n",
      "kitti metric t_err_3d\n",
      "doppler_icp  & 1.72 & 2.62 & 1.07 & 1.73  & 1.82\n",
      "elastic_icp  & 2.84 & 12.26 & 9.13 & 1.54  & 3.36\n",
      "steam_icp  & 2.29 & 12.86 & 22.75 & 2.10  & 4.16\n",
      "steam_dicp  & 2.36 & 2.61 & 0.74 & 1.70  & 1.89\n",
      "\n",
      "kitti metric r_err_3d\n",
      "doppler_icp  & 0.0330 & 0.0143 & 0.0335 & 0.0064  & 0.0122\n",
      "elastic_icp  & 0.0085 & 0.0148 & 0.0121 & 0.0038  & 0.0062\n",
      "steam_icp  & 0.0078 & 0.0155 & 0.0124 & 0.0040  & 0.0063\n",
      "steam_dicp  & 0.0077 & 0.0166 & 0.0137 & 0.0040  & 0.0065\n",
      "\n",
      "frame-to-frame metric t_err_3d\n",
      "doppler_icp  & 0.0245 & 0.0241 & 0.0378 & 0.0487  & 0.0396\n",
      "elastic_icp  & 0.0394 & 0.3750 & 0.2445 & 0.0800  & 0.1825\n",
      "steam_icp  & 0.0540 & 0.4129 & 0.6076 & 0.2889  & 0.3178\n",
      "steam_dicp  & 0.0178 & 0.0213 & 0.0299 & 0.0363  & 0.0300\n",
      "\n",
      "frame-to-frame metric r_err_3d\n",
      "doppler_icp  & 0.1354 & 0.1671 & 0.1653 & 0.0823  & 0.1160\n",
      "elastic_icp  & 0.1906 & 0.2866 & 0.1594 & 0.1162  & 0.1675\n",
      "steam_icp  & 0.1319 & 0.1856 & 0.1506 & 0.1194  & 0.1365\n",
      "steam_dicp  & 0.1367 & 0.1811 & 0.1498 & 0.1118  & 0.1329\n"
     ]
    }
   ],
   "source": [
    "### compute kitti metric\n",
    "sequences = [\n",
    "    '00',  # Baker-Barry Tunnel (Empty)\n",
    "    '01',  # Baker-Barry Tunnel (Vehicles)\n",
    "    '02',  # Robin Williams Tunnel\n",
    "    '03',  # Brisbane Lagoon Freeway\n",
    "]\n",
    "methods = [\"doppler_icp\", \"elastic_icp\", \"steam_icp\", \"steam_dicp\"]\n",
    "load_gt_fn = lambda sequence: load_poses(osp.join(gt_path, sequence, 'aeva_poses.txt'))[60:]\n",
    "load_pred_fn = lambda sequence, pred_file: load_poses(osp.join(pred_path, pred_file, sequence + '_poses.txt'))[60:]\n",
    "utils.print_results(sequences, methods, load_gt_fn, load_pred_fn)"
   ]
  },
  {
   "cell_type": "code",
   "execution_count": 4,
   "metadata": {},
   "outputs": [
    {
     "data": {
      "application/vnd.jupyter.widget-view+json": {
       "model_id": "24ce4ad68c35482eb518509ed58c3609",
       "version_major": 2,
       "version_minor": 0
      },
      "image/png": "[encoded data removed]",
      "text/html": [
       "\n",
       "            <div style=\"display: inline-block;\">\n",
       "                <div class=\"jupyter-widgets widget-label\" style=\"text-align: center;\">\n",
       "                    Figure\n",
       "                </div>\n",
       "                <img src='data:image/png;base64,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' width=252.0/>\n",
       "            </div>\n",
       "        "
      ],
      "text/plain": [
       "Canvas(toolbar=Toolbar(toolitems=[('Home', 'Reset original view', 'home', 'home'), ('Back', 'Back to previous …"
      ]
     },
     "metadata": {},
     "output_type": "display_data"
    }
   ],
   "source": [
    "sequences = [\n",
    "    '00',  # Baker-Barry Tunnel (Empty)\n",
    "    '01',  # Baker-Barry Tunnel (Vehicles)\n",
    "    '02',  # Robin Williams Tunnel\n",
    "    '03',  # Brisbane Lagoon Freeway\n",
    "]\n",
    "sequence = sequences[2]\n",
    "\n",
    "fig, ax = plt.subplots(1, 1, figsize=(3.5, 2))\n",
    "fig.subplots_adjust(left=0.2, right=0.95, bottom=0.2, top=0.95, wspace=0.25, hspace=0.25)\n",
    "\n",
    "gt_poses = load_poses(osp.join(gt_path, sequence, 'aeva_poses.txt'))[60:]\n",
    "\n",
    "##\n",
    "pred_file = 'steam_dicp'\n",
    "pred_poses = load_poses(osp.join(pred_path, pred_file, sequence+'_poses.txt'))[60:]\n",
    "# rpe metric\n",
    "t_err, r_err, pose_errors = utils.evaluate_odometry_rpe(gt_poses, pred_poses, 3)\n",
    "rte = [utils.translation_error(e, 3) for e in pose_errors]\n",
    "ax.plot(rte, label=\"STEAM-DICP\", linewidth=1.0, color='green')\n",
    "\n",
    "##\n",
    "pred_file = 'steam_icp'\n",
    "pred_poses = load_poses(osp.join(pred_path, pred_file, sequence+'_poses.txt'))[60:]\n",
    "# rpe metric\n",
    "t_err, r_err, pose_errors = utils.evaluate_odometry_rpe(gt_poses, pred_poses, 3)\n",
    "rte = [utils.translation_error(e, 3) for e in pose_errors]\n",
    "ax.plot(rte, label=\"STEAM-ICP\", linewidth=1.0, color='darkorange')\n",
    "\n",
    "ax.set_ylabel('Frame-to-Frame RTE [m]')\n",
    "ax.set_xlabel('Frame')\n",
    "ax.grid(which='both', linestyle='--', alpha=0.75)\n",
    "ax.tick_params(axis=u'both', which=u'both',length=0)\n",
    "ax.legend(framealpha=0.5, fontsize=5)\n",
    "\n",
    "# plt.savefig('/home/yuchen/ASRL/notes/2023-icra-wu/figs/dicp_result/seq02_local_rte.pdf', format=\"pdf\", bbox_inches=\"tight\")\n",
    "plt.show()"
   ]
  },
  {
   "cell_type": "code",
   "execution_count": 5,
   "metadata": {},
   "outputs": [
    {
     "data": {
      "application/vnd.jupyter.widget-view+json": {
       "model_id": "4f3c06b5667c4a2b93f319a7d3cdec32",
       "version_major": 2,
       "version_minor": 0
      },
      "image/png": "[encoded data removed]",
      "text/html": [
       "\n",
       "            <div style=\"display: inline-block;\">\n",
       "                <div class=\"jupyter-widgets widget-label\" style=\"text-align: center;\">\n",
       "                    Figure\n",
       "                </div>\n",
       "                <img src='data:image/png;base64,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' width=144.0/>\n",
       "            </div>\n",
       "        "
      ],
      "text/plain": [
       "Canvas(toolbar=Toolbar(toolitems=[('Home', 'Reset original view', 'home', 'home'), ('Back', 'Back to previous …"
      ]
     },
     "metadata": {},
     "output_type": "display_data"
    }
   ],
   "source": [
    "sequences = [\n",
    "    '00',  # Baker-Barry Tunnel (Empty)\n",
    "    '01',  # Baker-Barry Tunnel (Vehicles)\n",
    "    '02',  # Robin Williams Tunnel\n",
    "    '03',  # Brisbane Lagoon Freeway\n",
    "]\n",
    "sequence = sequences[2]\n",
    "\n",
    "fig, ax = plt.subplots(1, 1, figsize=(2, 2))\n",
    "fig.subplots_adjust(left=0.2, right=0.95, bottom=0.2, top=0.95, wspace=0.25, hspace=0.25)\n",
    "\n",
    "gt_poses = load_poses(osp.join(gt_path, sequence, 'aeva_poses.txt'))[60:]\n",
    "ax.plot(gt_poses[:, 0, 3], gt_poses[:, 1, 3], \"--\", label='Ground Truth', linewidth=2.0, dashes=(2, 1))\n",
    "\n",
    "pred_file = 'steam_dicp'\n",
    "pred_poses = load_poses(osp.join(pred_path, pred_file, sequence + '_poses.txt'))[60:]\n",
    "plot_pred_poses(ax, pred_poses, gt_poses, 'STEAM-DICP', 'green')\n",
    "\n",
    "pred_file = 'steam_icp'\n",
    "pred_poses = load_poses(osp.join(pred_path, pred_file, sequence + '_poses.txt'))[60:]\n",
    "plot_pred_poses(ax, pred_poses, gt_poses, 'STEAM-ICP', 'darkorange')\n",
    "\n",
    "ax.set_xlabel('x [m]')\n",
    "ax.set_ylabel('y [m]')\n",
    "ax.grid(which='both', linestyle='--', alpha=0.75)\n",
    "ax.legend(framealpha=0.5, fontsize=5)\n",
    "ax.tick_params(axis=u'both', which=u'both', length=0)\n",
    "\n",
    "# plt.savefig('/home/yuchen/ASRL/notes/2023-icra-wu/figs/dicp_result/seq02_path.pdf', format=\"pdf\", bbox_inches=\"tight\")\n",
    "plt.show()"
   ]
  }
 ],
 "metadata": {
  "kernelspec": {
   "display_name": "Python 3.6.9 ('venv': venv)",
   "language": "python",
   "name": "python3"
  },
  "language_info": {
   "codemirror_mode": {
    "name": "ipython",
    "version": 3
   },
   "file_extension": ".py",
   "mimetype": "text/x-python",
   "name": "python",
   "nbconvert_exporter": "python",
   "pygments_lexer": "ipython3",
   "version": "3.6.9"
  },
  "orig_nbformat": 4,
  "vscode": {
   "interpreter": {
    "hash": "73dab55e1133b23e867284e57956a84061d56eac45f1cccd57c8a1e6cbe5d29b"
   }
  }
 },
 "nbformat": 4,
 "nbformat_minor": 2
}
