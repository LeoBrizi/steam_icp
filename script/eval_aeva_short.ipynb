{
 "cells": [
  {
   "cell_type": "code",
   "execution_count": 2,
   "metadata": {},
   "outputs": [],
   "source": [
    "import os.path as osp\n",
    "import numpy as np\n",
    "import numpy.linalg as npla\n",
    "np.set_printoptions(6, suppress=True)\n",
    "import matplotlib.pyplot as plt\n",
    "%matplotlib inline\n",
    "%matplotlib widget\n",
    "plt.rcParams.update({\n",
    "    \"text.usetex\": False,\n",
    "    \"font.family\": \"sans-serif\",\n",
    "    \"font.serif\": [\"Helvetica\"],\n",
    "    'font.size': 7,\n",
    "})\n",
    "\n",
    "import utils\n",
    "\n",
    "\n",
    "def load_poses(filename):\n",
    "    data = np.loadtxt(filename)\n",
    "    poses = []\n",
    "    for v in data:\n",
    "        pose = np.eye(4)\n",
    "        pose[:3, :] = v.reshape(3, 4)\n",
    "        poses.append(pose)\n",
    "    return np.array(poses)\n",
    "\n",
    "\n",
    "def plot_pred_poses(ax, pred_poses, gt_poses, label, color):\n",
    "    T_gt_pred = gt_poses[0] @ npla.inv(pred_poses[0])\n",
    "    pred_poses = T_gt_pred @ pred_poses\n",
    "    ax.plot(pred_poses[:, 0, 3], pred_poses[:, 1, 3], label=label, linewidth=1.0, color=color)\n",
    "\n",
    "\n",
    "gt_path = '/home/ywu/ASRL/steam_icp/data/aeva'\n",
    "pred_path = '/home/ywu/ASRL/steam_icp/src/results/aeva_short/'"
   ]
  },
  {
   "cell_type": "code",
   "execution_count": 2,
   "metadata": {},
   "outputs": [
    {
     "name": "stdout",
     "output_type": "stream",
     "text": [
      "00:\n",
      "  distance: 865.2772056629506\n",
      "01:\n",
      "  distance: 894.2118615970094\n",
      "02:\n",
      "  distance: 688.9543640906974\n",
      "03:\n",
      "  distance: 4947.117233094587\n"
     ]
    }
   ],
   "source": [
    "### compute trajectory distance\n",
    "sequences = [\n",
    "    '00',  # Baker-Barry Tunnel (Empty)\n",
    "    '01',  # Baker-Barry Tunnel (Vehicles)\n",
    "    '02',  # Robin Williams Tunnel\n",
    "    '03',  # Brisbane Lagoon Freeway\n",
    "]\n",
    "\n",
    "for sequence in sequences:\n",
    "  print(f\"{sequence}:\")\n",
    "  gt_poses = load_poses(osp.join(gt_path, sequence, 'aeva_poses.txt'))\n",
    "  distance = utils.trajectory_distances(gt_poses)[-1]\n",
    "  print(f\"  distance: {distance}\")"
   ]
  },
  {
   "cell_type": "code",
   "execution_count": 3,
   "metadata": {},
   "outputs": [
    {
     "name": "stdout",
     "output_type": "stream",
     "text": [
      "\n",
      "doppler_icp\n",
      "  00   01   02   03 \n",
      "elastic_icp\n",
      "  00   01   02   03 \n",
      "steam_icp\n",
      "  00   01   02   03 \n",
      "steam_dicp\n",
      "  00   01   02   03 \n",
      "\n",
      "\n",
      "kitti metric t_err_3d\n",
      "doppler_icp  & 1.66 & 2.60 & 1.03 & 1.72  & 1.80\n",
      "elastic_icp  & 2.83 & 12.26 & 9.11 & 1.54  & 3.35\n",
      "steam_icp  & 2.28 & 12.86 & 22.74 & 2.10  & 4.16\n",
      "steam_dicp  & 2.35 & 2.60 & 0.74 & 1.70  & 1.88\n",
      "\n",
      "kitti metric r_err_3d\n",
      "doppler_icp  & 0.0330 & 0.0143 & 0.0335 & 0.0064  & 0.0122\n",
      "elastic_icp  & 0.0085 & 0.0148 & 0.0121 & 0.0038  & 0.0062\n",
      "steam_icp  & 0.0078 & 0.0155 & 0.0124 & 0.0040  & 0.0063\n",
      "steam_dicp  & 0.0077 & 0.0166 & 0.0137 & 0.0040  & 0.0065\n",
      "\n",
      "frame-to-frame metric t_err_3d\n",
      "doppler_icp  & 0.0246 & 0.0254 & 0.0380 & 0.0494  & 0.0402\n",
      "elastic_icp  & 0.0401 & 0.3753 & 0.2446 & 0.0801  & 0.1827\n",
      "steam_icp  & 0.0541 & 0.4134 & 0.6076 & 0.2892  & 0.3180\n",
      "steam_dicp  & 0.0180 & 0.0211 & 0.0299 & 0.0362  & 0.0299\n",
      "\n",
      "frame-to-frame metric r_err_3d\n",
      "doppler_icp  & 0.1353 & 0.1671 & 0.1656 & 0.0825  & 0.1161\n",
      "elastic_icp  & 0.1906 & 0.2866 & 0.1594 & 0.1163  & 0.1675\n",
      "steam_icp  & 0.1320 & 0.1857 & 0.1505 & 0.1195  & 0.1366\n",
      "steam_dicp  & 0.1368 & 0.1811 & 0.1500 & 0.1119  & 0.1329\n"
     ]
    }
   ],
   "source": [
    "### compute kitti metric\n",
    "sequences = [\n",
    "    '00',  # Baker-Barry Tunnel (Empty)\n",
    "    '01',  # Baker-Barry Tunnel (Vehicles)\n",
    "    '02',  # Robin Williams Tunnel\n",
    "    '03',  # Brisbane Lagoon Freeway\n",
    "]\n",
    "methods = [\"doppler_icp\", \"elastic_icp\", \"steam_icp\", \"steam_dicp\"]\n",
    "load_gt_fn = lambda sequence: load_poses(osp.join(gt_path, sequence, 'aeva_poses.txt'))[60:]\n",
    "load_pred_fn = lambda sequence, pred_file: load_poses(osp.join(pred_path, pred_file, sequence + '_poses.txt'))[60:]\n",
    "utils.print_results(sequences, methods, load_gt_fn, load_pred_fn)"
   ]
  },
  {
   "cell_type": "code",
   "execution_count": 3,
   "metadata": {},
   "outputs": [
    {
     "data": {
      "application/vnd.jupyter.widget-view+json": {
       "model_id": "5f112af16cbf41439325c9498b9f18b9",
       "version_major": 2,
       "version_minor": 0
      },
      "image/png": "[encoded data removed]",
      "text/html": [
       "\n",
       "            <div style=\"display: inline-block;\">\n",
       "                <div class=\"jupyter-widgets widget-label\" style=\"text-align: center;\">\n",
       "                    Figure\n",
       "                </div>\n",
       "                <img src='data:image/png;base64,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' width=252.0/>\n",
       "            </div>\n",
       "        "
      ],
      "text/plain": [
       "Canvas(toolbar=Toolbar(toolitems=[('Home', 'Reset original view', 'home', 'home'), ('Back', 'Back to previous …"
      ]
     },
     "metadata": {},
     "output_type": "display_data"
    }
   ],
   "source": [
    "sequences = [\n",
    "    '00',  # Baker-Barry Tunnel (Empty)\n",
    "    '01',  # Baker-Barry Tunnel (Vehicles)\n",
    "    '02',  # Robin Williams Tunnel\n",
    "    '03',  # Brisbane Lagoon Freeway\n",
    "]\n",
    "sequence = sequences[2]\n",
    "\n",
    "fig, ax = plt.subplots(1, 1, figsize=(3.5, 2))\n",
    "fig.subplots_adjust(left=0.2, right=0.95, bottom=0.2, top=0.95, wspace=0.25, hspace=0.25)\n",
    "\n",
    "gt_poses = load_poses(osp.join(gt_path, sequence, 'aeva_poses.txt'))[60:]\n",
    "\n",
    "##\n",
    "pred_file = 'steam_dicp'\n",
    "pred_poses = load_poses(osp.join(pred_path, pred_file, sequence+'_poses.txt'))[60:]\n",
    "# rpe metric\n",
    "t_err, r_err, pose_errors = utils.evaluate_odometry_rpe(gt_poses, pred_poses, 3)\n",
    "rte = [utils.translation_error(e, 3) for e in pose_errors]\n",
    "ax.plot(rte, label=\"STEAM-DICP\", linewidth=1.0, color='green')\n",
    "\n",
    "##\n",
    "pred_file = 'steam_icp'\n",
    "pred_poses = load_poses(osp.join(pred_path, pred_file, sequence+'_poses.txt'))[60:]\n",
    "# rpe metric\n",
    "t_err, r_err, pose_errors = utils.evaluate_odometry_rpe(gt_poses, pred_poses, 3)\n",
    "rte = [utils.translation_error(e, 3) for e in pose_errors]\n",
    "ax.plot(rte, label=\"STEAM-ICP\", linewidth=1.0, color='darkorange')\n",
    "\n",
    "ax.set_ylabel('Frame-to-Frame RTE [m]')\n",
    "ax.set_xlabel('Frame')\n",
    "ax.grid(which='both', linestyle='--', alpha=0.75)\n",
    "ax.tick_params(axis=u'both', which=u'both',length=0)\n",
    "ax.legend(framealpha=0.5, fontsize=5)\n",
    "\n",
    "# plt.savefig('/home/yuchen/ASRL/notes/2023-icra-wu/figs/dicp_result/seq02_local_rte.pdf', format=\"pdf\", bbox_inches=\"tight\")\n",
    "plt.show()"
   ]
  },
  {
   "cell_type": "code",
   "execution_count": 4,
   "metadata": {},
   "outputs": [
    {
     "data": {
      "application/vnd.jupyter.widget-view+json": {
       "model_id": "1dda85f03ecf494caaf867dfcaf42fd5",
       "version_major": 2,
       "version_minor": 0
      },
      "image/png": "[encoded data removed]",
      "text/html": [
       "\n",
       "            <div style=\"display: inline-block;\">\n",
       "                <div class=\"jupyter-widgets widget-label\" style=\"text-align: center;\">\n",
       "                    Figure\n",
       "                </div>\n",
       "                <img src='data:image/png;base64,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' width=144.0/>\n",
       "            </div>\n",
       "        "
      ],
      "text/plain": [
       "Canvas(toolbar=Toolbar(toolitems=[('Home', 'Reset original view', 'home', 'home'), ('Back', 'Back to previous …"
      ]
     },
     "metadata": {},
     "output_type": "display_data"
    }
   ],
   "source": [
    "sequences = [\n",
    "    '00',  # Baker-Barry Tunnel (Empty)\n",
    "    '01',  # Baker-Barry Tunnel (Vehicles)\n",
    "    '02',  # Robin Williams Tunnel\n",
    "    '03',  # Brisbane Lagoon Freeway\n",
    "]\n",
    "sequence = sequences[2]\n",
    "\n",
    "fig, ax = plt.subplots(1, 1, figsize=(2, 2))\n",
    "fig.subplots_adjust(left=0.2, right=0.95, bottom=0.2, top=0.95, wspace=0.25, hspace=0.25)\n",
    "\n",
    "gt_poses = load_poses(osp.join(gt_path, sequence, 'aeva_poses.txt'))[60:]\n",
    "ax.plot(gt_poses[:, 0, 3], gt_poses[:, 1, 3], \"--\", label='Ground Truth', linewidth=2.0, dashes=(2, 1))\n",
    "\n",
    "pred_file = 'steam_dicp'\n",
    "pred_poses = load_poses(osp.join(pred_path, pred_file, sequence + '_poses.txt'))[60:]\n",
    "plot_pred_poses(ax, pred_poses, gt_poses, 'STEAM-DICP', 'green')\n",
    "\n",
    "pred_file = 'steam_icp'\n",
    "pred_poses = load_poses(osp.join(pred_path, pred_file, sequence + '_poses.txt'))[60:]\n",
    "plot_pred_poses(ax, pred_poses, gt_poses, 'STEAM-ICP', 'darkorange')\n",
    "\n",
    "ax.set_xlabel('x [m]')\n",
    "ax.set_ylabel('y [m]')\n",
    "ax.grid(which='both', linestyle='--', alpha=0.75)\n",
    "ax.legend(framealpha=0.5, fontsize=5)\n",
    "ax.tick_params(axis=u'both', which=u'both', length=0)\n",
    "\n",
    "# plt.savefig('/home/yuchen/ASRL/notes/2023-icra-wu/figs/dicp_result/seq02_path.pdf', format=\"pdf\", bbox_inches=\"tight\")\n",
    "plt.show()"
   ]
  }
 ],
 "metadata": {
  "kernelspec": {
   "display_name": "Python 3.6.9 ('venv': venv)",
   "language": "python",
   "name": "python3"
  },
  "language_info": {
   "codemirror_mode": {
    "name": "ipython",
    "version": 3
   },
   "file_extension": ".py",
   "mimetype": "text/x-python",
   "name": "python",
   "nbconvert_exporter": "python",
   "pygments_lexer": "ipython3",
   "version": "3.6.9"
  },
  "orig_nbformat": 4,
  "vscode": {
   "interpreter": {
    "hash": "73dab55e1133b23e867284e57956a84061d56eac45f1cccd57c8a1e6cbe5d29b"
   }
  }
 },
 "nbformat": 4,
 "nbformat_minor": 2
}
