{
 "cells": [
  {
   "cell_type": "code",
   "execution_count": null,
   "id": "e27632f1-da48-4b6e-ad78-0cbb47de7194",
   "metadata": {},
   "outputs": [],
   "source": [
    "# TODO: simulate a WNOA or WNOJ prior using Q, sampling multidim Gauss\n",
    "# TODO: simulate having a pose measurement at t=0\n",
    "# compare keeping all states to interpolation approach to the new GP query approach looking at their bias and consistency"
   ]
  },
  {
   "cell_type": "code",
   "execution_count": null,
   "id": "eaf2b0ec-4207-43d5-a247-94be8f069f4a",
   "metadata": {},
   "outputs": [],
   "source": [
    "qcd = np.ones(6)\n",
    "ad = np.ones(6)"
   ]
  }
 ],
 "metadata": {
  "kernelspec": {
   "display_name": "Python 3 (ipykernel)",
   "language": "python",
   "name": "python3"
  },
  "language_info": {
   "codemirror_mode": {
    "name": "ipython",
    "version": 3
   },
   "file_extension": ".py",
   "mimetype": "text/x-python",
   "name": "python",
   "nbconvert_exporter": "python",
   "pygments_lexer": "ipython3",
   "version": "3.8.10"
  }
 },
 "nbformat": 4,
 "nbformat_minor": 5
}
