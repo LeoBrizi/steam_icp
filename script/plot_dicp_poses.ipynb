{
 "cells": [
  {
   "cell_type": "code",
   "execution_count": 3,
   "metadata": {},
   "outputs": [],
   "source": [
    "import collections\n",
    "import os.path as osp\n",
    "import numpy as np\n",
    "import numpy.linalg as npla\n",
    "import scipy.spatial.transform as sptf\n",
    "np.set_printoptions(6, suppress=True)\n",
    "import matplotlib.pyplot as plt\n",
    "%matplotlib inline\n",
    "%matplotlib widget\n",
    "plt.rcParams.update({\n",
    "    \"text.usetex\": True,\n",
    "    \"font.family\": \"serif\",\n",
    "    \"font.serif\": [\"Times\"],\n",
    "    'font.size': 7,\n",
    "})\n",
    "\n",
    "import utils\n",
    "\n",
    "\n",
    "def load_pred_poses(filename):\n",
    "    data = np.loadtxt(filename)\n",
    "    poses = []\n",
    "    for v in data:\n",
    "        T_ms = np.eye(4)\n",
    "        T_ms[:3, :] = v.reshape(3, 4)\n",
    "        poses.append(T_ms)\n",
    "\n",
    "    return np.array(poses)\n",
    "\n",
    "\n",
    "def load_gt_poses(filename):\n",
    "    data = np.loadtxt(filename, delimiter=' ')\n",
    "\n",
    "    poses = []\n",
    "    for tq in data[:, 1:]:\n",
    "        T_mr = np.eye(4)\n",
    "        T_mr[:3, :3] = sptf.Rotation.from_quat(tq[3:]).as_matrix()\n",
    "        T_mr[:3, 3] = tq[:3]\n",
    "        poses.append(T_mr)\n",
    "    return np.array(poses)\n",
    "\n",
    "\n",
    "def plot_pred_poses(ax, pred_poses, gt_poses, label, color):\n",
    "    T_gt_pred = gt_poses[0] @ npla.inv(pred_poses[0])\n",
    "    pred_poses = T_gt_pred @ pred_poses\n",
    "    ax.plot(pred_poses[:, 0, 3], pred_poses[:, 1, 3], label=label, linewidth=1.0, color=color)\n",
    "\n",
    "\n",
    "gt_path = '/media/yuchen/T7/ASRL/data/dicp'\n",
    "pred_path = '/ext0/ASRL/steam_icp/results/dicp/'"
   ]
  },
  {
   "cell_type": "code",
   "execution_count": 4,
   "metadata": {},
   "outputs": [
    {
     "name": "stdout",
     "output_type": "stream",
     "text": [
      "                    KITTI metric:     t(2d)  r(2d)    t      r          RPE:     t(2d)    r(2d)      t      r\n",
      "brisbane-lagoon-freeway:\n",
      "  doppler_icp                         & 1.15 & 0.0015 & 1.72 & 0.0064            & 0.0226 & 0.0194 & 0.0494 & 0.0827 \\\\\n",
      "  elastic_icp                         & 1.10 & 0.0014 & 1.54 & 0.0038            & 0.0783 & 0.0269 & 0.0801 & 0.1163 \\\\\n",
      "  steam_icp                           & 1.69 & 0.0016 & 2.10 & 0.0040            & 0.2887 & 0.0399 & 0.2892 & 0.1195 \\\\\n",
      "  steam_dicp                          & 1.26 & 0.0014 & 1.67 & 0.0039            & 0.0345 & 0.0297 & 0.0373 & 0.1121 \\\\\n",
      "bunker-road:\n",
      "  doppler_icp                         & 1.10 & 0.0007 & 1.66 & 0.0330            & 0.0150 & 0.0187 & 0.0246 & 0.1357 \\\\\n",
      "  elastic_icp                         & 1.99 & 0.0014 & 2.83 & 0.0085            & 0.0389 & 0.0264 & 0.0401 & 0.1907 \\\\\n",
      "  steam_icp                           & 1.36 & 0.0011 & 2.28 & 0.0078            & 0.0536 & 0.0209 & 0.0541 & 0.1322 \\\\\n",
      "  steam_dicp                          & 1.43 & 0.0012 & 2.35 & 0.0077            & 0.0164 & 0.0199 & 0.0179 & 0.1369 \\\\\n",
      "bunker-road-vehicles:\n",
      "  doppler_icp                         & 1.04 & 0.0061 & 2.60 & 0.0143            & 0.0166 & 0.0207 & 0.0254 & 0.1670 \\\\\n",
      "  elastic_icp                         & 11.04 & 0.0042 & 12.26 & 0.0148            & 0.3750 & 0.0319 & 0.3753 & 0.2865 \\\\\n",
      "  steam_icp                           & 11.62 & 0.0065 & 12.86 & 0.0155            & 0.4131 & 0.0324 & 0.4134 & 0.1855 \\\\\n",
      "  steam_dicp                          & 0.67 & 0.0051 & 2.58 & 0.0161            & 0.0186 & 0.0203 & 0.0213 & 0.1802 \\\\\n",
      "robin-williams-tunnel:\n",
      "  doppler_icp                         & 0.57 & 0.0028 & 1.03 & 0.0335            & 0.0178 & 0.0323 & 0.0380 & 0.1655 \\\\\n",
      "  elastic_icp                         & 9.07 & 0.0019 & 9.11 & 0.0121            & 0.2442 & 0.0356 & 0.2446 & 0.1593 \\\\\n",
      "  steam_icp                           & 22.70 & 0.0024 & 22.74 & 0.0124            & 0.6075 & 0.0362 & 0.6076 & 0.1503 \\\\\n",
      "  steam_dicp                          & 0.43 & 0.0031 & 0.73 & 0.0137            & 0.0260 & 0.0311 & 0.0298 & 0.1482 \\\\\n",
      "average: \n",
      "doppler_icp                         & 0.00 & 0.0000 & 1.80 & 0.0122            & 0.0000 & 0.0000 & 0.0402 & 0.1163 \\\\\n",
      "elastic_icp                         & 0.00 & 0.0000 & 3.35 & 0.0062            & 0.0000 & 0.0000 & 0.1827 & 0.1675 \\\\\n",
      "steam_icp                           & 0.00 & 0.0000 & 4.16 & 0.0063            & 0.0000 & 0.0000 & 0.3180 & 0.1366 \\\\\n",
      "steam_dicp                          & 0.00 & 0.0000 & 1.86 & 0.0064            & 0.0000 & 0.0000 & 0.0306 & 0.1328 \\\\\n"
     ]
    }
   ],
   "source": [
    "### compute kitti metric\n",
    "sequences = [\n",
    "    'brisbane-lagoon-freeway',\n",
    "    'bunker-road',\n",
    "    'bunker-road-vehicles',\n",
    "    'robin-williams-tunnel',\n",
    "]\n",
    "\n",
    "local_kitti_errs = collections.defaultdict(list)\n",
    "local_rpe_errs = collections.defaultdict(list)\n",
    "\n",
    "print(f\"                    KITTI metric:     t(2d)  r(2d)    t      r          RPE:     t(2d)    r(2d)      t      r\")\n",
    "for sequence in sequences:\n",
    "  print(f\"{sequence}:\")\n",
    "  gt_poses = load_gt_poses(osp.join(gt_path, sequence, 'ref_poses.txt'))[60:]\n",
    "\n",
    "  for pred_file in [\"doppler_icp\", \"elastic_icp\", \"steam_icp\", \"steam_dicp\"]:\n",
    "    ##\n",
    "    pred_poses = load_pred_poses(osp.join(pred_path, pred_file, sequence+'_poses.txt'))[60:]\n",
    "    # kitti metric\n",
    "    t_err_2d, r_err_2d, t_err, r_err, err_3d = utils.evaluate_odometry_kitti(gt_poses, pred_poses)\n",
    "    print(f\"  {pred_file:<35} & {t_err_2d:.2f} & {r_err_2d:.4f} & {t_err:.2f} & {r_err:.4f}\", end = '')\n",
    "    local_kitti_errs[pred_file].append(err_3d)\n",
    "    # rpe metric\n",
    "    t_err_2d, r_err_2d, t_err, r_err, pose_errors = utils.evaluate_odometry_rpe(gt_poses, pred_poses)\n",
    "    print(f\"            & {t_err_2d:.4f} & {r_err_2d:.4f} & {t_err:.4f} & {r_err:.4f} \\\\\\\\\")\n",
    "    local_rpe_errs[pred_file].extend(pose_errors)\n",
    "\n",
    "print(\"average: \")\n",
    "for pred_file in local_kitti_errs.keys():\n",
    "  errs = local_kitti_errs[pred_file]\n",
    "  t_err, r_err = utils.get_avg_stats(errs)\n",
    "  print(f\"{pred_file:<35} & {0.0:.2f} & {0.0:.4f} & {t_err:.2f} & {r_err:.4f}\", end = '')\n",
    "\n",
    "  errs = local_rpe_errs[pred_file]\n",
    "  t_err, r_err = utils.get_avg_rpe(errs)\n",
    "  print(f\"            & {0.0:.4f} & {0.0:.4f} & {t_err:.4f} & {r_err:.4f} \\\\\\\\\")\n"
   ]
  },
  {
   "cell_type": "code",
   "execution_count": 6,
   "metadata": {},
   "outputs": [
    {
     "data": {
      "application/vnd.jupyter.widget-view+json": {
       "model_id": "3eaaddffbd0d4f988b94bf1b7b9a65eb",
       "version_major": 2,
       "version_minor": 0
      },
      "image/png": "[encoded data removed]",
      "text/html": [
       "\n",
       "            <div style=\"display: inline-block;\">\n",
       "                <div class=\"jupyter-widgets widget-label\" style=\"text-align: center;\">\n",
       "                    Figure\n",
       "                </div>\n",
       "                <img src='data:image/png;base64,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' width=252.0/>\n",
       "            </div>\n",
       "        "
      ],
      "text/plain": [
       "Canvas(toolbar=Toolbar(toolitems=[('Home', 'Reset original view', 'home', 'home'), ('Back', 'Back to previous …"
      ]
     },
     "metadata": {},
     "output_type": "display_data"
    }
   ],
   "source": [
    "sequences = [\n",
    "    'bunker-road',\n",
    "    'bunker-road-vehicles',\n",
    "    'robin-williams-tunnel',\n",
    "    'brisbane-lagoon-freeway',\n",
    "]\n",
    "sequence = sequences[2]\n",
    "\n",
    "fig, ax = plt.subplots(1, 1, figsize=(3.5, 2))\n",
    "fig.subplots_adjust(left=0.2, right=0.95, bottom=0.2, top=0.95, wspace=0.25, hspace=0.25)\n",
    "\n",
    "gt_poses = load_gt_poses(osp.join(gt_path, sequence, 'ref_poses.txt'))[60:]\n",
    "\n",
    "##\n",
    "pred_file = 'steam_dicp'\n",
    "pred_poses = load_pred_poses(osp.join(pred_path, pred_file, sequence+'_poses.txt'))[60:]\n",
    "# rpe metric\n",
    "t_err_2d, r_err_2d, t_err, r_err, pose_errors = utils.evaluate_odometry_rpe(gt_poses, pred_poses)\n",
    "rte = [utils.translation_error(e, 3) for e in pose_errors]\n",
    "ax.plot(rte, label=\"STEAM-DICP\", linewidth=1.0, color='green')\n",
    "\n",
    "##\n",
    "pred_file = 'steam_icp'\n",
    "pred_poses = load_pred_poses(osp.join(pred_path, pred_file, sequence+'_poses.txt'))[60:]\n",
    "# rpe metric\n",
    "t_err_2d, r_err_2d, t_err, r_err, pose_errors = utils.evaluate_odometry_rpe(gt_poses, pred_poses)\n",
    "rte = [utils.translation_error(e, 3) for e in pose_errors]\n",
    "ax.plot(rte, label=\"STEAM-ICP\", linewidth=1.0, color='darkorange')\n",
    "\n",
    "ax.set_ylabel('Frame-to-Frame RTE [m]')\n",
    "ax.set_xlabel('Frame')\n",
    "ax.grid(which='both', linestyle='--', alpha=0.75)\n",
    "ax.tick_params(axis=u'both', which=u'both',length=0)\n",
    "ax.legend(framealpha=0.5, fontsize=5)\n",
    "\n",
    "# plt.savefig('/home/yuchen/ASRL/notes/2023-icra-wu/figs/seq02_local_rte.pdf', format=\"pdf\", bbox_inches=\"tight\")\n",
    "plt.show()"
   ]
  },
  {
   "cell_type": "code",
   "execution_count": 7,
   "metadata": {},
   "outputs": [
    {
     "data": {
      "application/vnd.jupyter.widget-view+json": {
       "model_id": "da34a42049d142c29dc39a756060d5ca",
       "version_major": 2,
       "version_minor": 0
      },
      "image/png": "[encoded data removed]",
      "text/html": [
       "\n",
       "            <div style=\"display: inline-block;\">\n",
       "                <div class=\"jupyter-widgets widget-label\" style=\"text-align: center;\">\n",
       "                    Figure\n",
       "                </div>\n",
       "                <img src='data:image/png;base64,iVBORw0KGgoAAAANSUhEUgAAAJAAAACQCAYAAADnRuK4AAAAOXRFWHRTb2Z0d2FyZQBNYXRwbG90bGliIHZlcnNpb24zLjUuMywgaHR0cHM6Ly9tYXRwbG90bGliLm9yZy/NK7nSAAAACXBIWXMAAAsTAAALEwEAmpwYAAAW+0lEQVR4nO2deXhU5b3HP4eQQAKESVgEqSwzAmJEvEO0WvGqJai4UJcAihUUbYLL425StRVovRWCpbZeqAEU0Vs1ErFqBZRYFkWwIYGwGAEzEUgIEDIzISHbZOa9f8xiEiYhmTnvbJ7P88zDyTk53995J1/e5bybIoRAQ8NXugX7ATTCG81AGn6hGUjDLzQDafiFZiANv9AMpOEX3YMRtH///mL48OGqatpsNqKjo1XVDKR+IGL4ql9QUHBSCDHA60UhhF8fQAdkAEbXJ63lsbd7xo8fL9Rm586dqmsGUj8QMXzVB3aIdv7+ahRhyUA/IF0IUegyVMvjgDBo0KCw1g9EDBn6fhVhiqIYgR3AJCDRddoKnO8+VhTF6DKTB5vNxq5duxBC0LdvX6KioqipqQEgOjqa3r17Y7FY3DFISEiguroau90OQHx8PE1NTTQ0NAAQFxeHEIK9e/cCEBMTQ1xcHFartV2Nvn370tDQQGNjIwC9evUC4PTp0141ABwOB1arFYfDAcC5555LbW0tZrMZgGHDhiGE4PDhwwD079+fAQMGUFxcDEBsbCyjR49m37592Gw2AMaOHcuRI0ewWq00NzcTGxtLU1MT5eXlAAwcOJCEhAT279/vSeuoUaPYs2ePJy3jxo2jtLSUU6dOAWAwGKivr+fo0aOA0zh9+vShrKyMY8eO0adPHwwGA0VFRQghUBSFcePGUVJS4vk7jBw5kpqaGo4dO9axCdrLmjrzARbiLLI2AKtc5zLaHOva3ucuwsrLy4XdbvcpWxVCiIKCArF69WqRnZ0tvvvuu07dk52dLSwWi+c4LS1NZGdne9VeuHCh5+eKiopW1+12uygvL/f52b0RzCLM4XCIt4veFvW2+jOu0UER5lcOJITIBFAUxQDkuHIkE5DnPhZCWDvS6NatG8N/+2mrcz8suAmg3fNu8vLyyMjIwGq1cvz4cTIzM5k+fTpmsxmr1cqXX35JUlIS5eXl9OrVi5SUlFY5SlpaGllZWaSlpXnuzcnJwWAwsG/fPoYMGUJWVhYZGRlenzuS+GD3Du7/6DGU+iu5++cjOn2fKt+CECJTCFHo+uS2PFZDvz2qqqoAp5GOHj2KwWDAaDRSWFiI0WgEIDExkYSEBIxGI1u2bPGcb4v7XoPBQGJiIiNGjECn02E0GrFarcTExMhMCgB9+vQJmv4rW9+kh+0Kjpgbu6QZlGZ8W9rmLGc772bSpEnk5uZiNpsxGo2sX78eAL1ej8lkIikpCZPJxNatW4mLi6O2thaTyYRer0en0wGQn58PQElJiUfXZDJx8OBB4uLiSExMxGw2o9frVUhpxxgMhqDoO4SD0rpPuXbofKYl/6xrou2VbTI/LetAatG2jqI23vTVrgPt2rVLVb3O6m8q3SSSliQJh8Ph9TqSm/EaKiEkj83ypi+E4P7cLH4WcyOWOluXNTUDhRCKogRcf+OBUkprN1NWnkzP6K7bISTqQL6Sm+uso+t0OkwmEwUFBYwfP56CggLS09MxmUykpqaybNky0tLSADytLaPRyKRJk9iwYQMA6enpTJ06lcLCQjIyMsjMzPRoABQWFlJSUsLUqVMxmUwePTUZN26c6ppn03/u878Qa7+MWRMuJi6m63YI6xzI/QIvJSWF1NRUDAYDaWlpngpyy4qv22zuprrJZGrVIjMYDKSkpJCSkkJeXp6nNbZ69WpSUlJ44IEH0Ol0JCcnS0tPy4p8IPQtdXUUmt+jn7idWVcM90kzrA2UlpaGyWQiLy+PpqamVteMRiM6nQ6r1UpiYiI5OTmtrptMJvr160deXp4nl3GTmJjoOXab0a1vNpul5D6A5y2wLNrqr/3+Q64cNpac2XcxML6nT5ohUYQp8ztf9ou5P1YEs7KyMBqNnj+4u0lutVopLCxkx44dgNNo+fn5mEwmduzY4XnZmJ+f73lJWFVVRV5enqcIy8nJwWw2e14VxMfHe8wYCZRW1vD8Fy/yvze+zOX6fr4Ltdc8k/mR0YxvbGxUTauz+mo342tra1XV60h/8rI/iZgXRousdcVnvY+fQjO+bREWbvoQuCKsuMJCXtkS+jXP5M7LhvqlGTEGqq2tDWt94Ow93yrpp32wmG4ikfuSb+a8xDi/NEOiDuQrLZvxO3fu5Pvvv/e5GX+2ZvuUKVOCk0iVOdV4igMNK7hVn8VT113gt15Y50Atm/EPPfSQ3834ls32jIyMVs122R2d4BxfJJPEAYN47NPnuWnkZN679x4Se/nfQRzWBmrZjO/evXVm6msz3m0+N+5me1t9GcTGxvp+s+lTOLmvw195eet23tr9FhfEpfsepw2hUYT9uQuv8J/y3oy3WCx+NeNLSkpaNdv1en2rZrvFYpE+5LSkpIRLLrmk6zcKAZufhutWtPsru46YWb7v9+js05k4apTvD3lm7MhoxkdCb7zPIxIr8oVYPkKIdnrTm+0OMWbB46LH7y8Q8z/e3WV5ZI1IDCV69OgR1vrgHOvtE0V/h7G/gXY6Yw9X/8BRx1tMSFjMM9df6McTnknQDeRwOFQZHtq27qI2bfXdA+vVZMSIzg8l9VBvhoNrYPZ+r5cLDlXxaN69PHtVBhlXzlS9xz+oBurdu7dq7z7MZrPUbgZv+r1791Y1RlFRUdfrQPveBP1NEDfwjEuVNY1MWfUUp4SVVbc86Jv+WQiqgeLj433Ptttw4sQJqc1g2fo+IRxQtBRueOuMS812B3eteoNjjo+46ZxVjOjfhz1H1X8Ef+eF6YEUnBMI81ynk3HOFQNIFkIs8ydGZ4mKigprfZ9ilK6D6D5w7hVnXHr9611sqpyLvvvTLL/7OqK6KXLS0F7tuisfnHPDsl3HGS2Pvf2+jKnNPzkcDiH+cbkQxe+ecamxuVFMeH2CmLh8jsgvrfI7FDI7UxVFSQXG08HMVH9jdIYDBw6EtX6XYxz+AhosMGpqq9NfHqjkyuwZ9Ivrz+f3LyF5+I/1Nhlp8LsOJITIVRTl0handEBZi2NT23vcU5vB+fo+NjbWM1ouPj6eESNGUFRUBDiz9bFjx3LgwAHq6uoAGD16NBaLhRMnTgAwZMgQrFarR1On03HeeeexZ88ewDldOikpif3791NfXw/AmDFjqKys5OTJkwAMHToURVE4dOgQ4BxUNnjwYPbtc77dtVgsjBo1iuLiYs906KSkJCoqKlSb2lxVVcU555zTqanNtV88S9Xgu7Hs3uOZ2ryj9CSPbF6OVSlg5vnvs7toN/Dj1OYjR45QV1cXUlObU/hxJQ73J7Xlsbf7tNU5/IxRul6I10cKYbd5Th04dkqcN+9pEfXCADH77bXCbj/zpaKM1TmC+iZaTerq6lTXDKR+p2PYm4V48yIhDnzY6vSSbe+K6HmJ4o5l74umZu/rDfiaho4MFPQXiWphsVj864wMsn6nY+x9A3omwvm/AqC44hT//mE98796lI/u/Jhr9ZcTHeW9aisjDWHdG98Sd30oXPU7FaPBCl/Phav/DIrC3vJqblj2Eo9/Pocl17/H5NFX0jO6/aa6jDRETA70k+DLTGfOMyiZb0xV3PbWXE7wHlPOXcotY64OyiNFjIGGDBkS1vpnjXFkM5jWwr17EULwh80vUinWMH34G6y852Ziup+9MJGRhogxkOzlVwKxvEu7MWz18PkDMHEJeaY6PvlhLmWNG1lx41p+fek4orp1roNURhoipg5UWloa1vodxtj6O8RAI4tM53PrOzP5YM9mNs7cyKyfX9Jp83So7wcRkwNFLD98htj/PvN0K1mUfz8oNl6c8C6JcaExwTFicqBAjwcKSIy6E7D+Po5PeJVX9j9DdyWG3Gkfcu8vfJtNISMNivM9UWBJTk4W7vHKamG326X2mMvWPyOGw44t90bKehiYdiKfkbqLeWz8An6u977ed5f1u4CiKAVCCK+rSkRMDuTu9wpX/bYxav/9W/YcKeeinZ/wXwOu5h+pK/wyT1t9tdDqQCHIsW/ewL7rTSbXwpCeU5l3zR+lLz7lKxFjINn7WMjW98Q4lk+fbU9wVR2cF/8weXPmoYtTp/ktIw0RY6CkpKSw1gdobq6hMfdG0m0w0fgyf7x+doddE11FRhoipg7kHi8Trvoff7mdfp/dwCM1jcy6/QMW3fwbVc0DctIQMQZyDxQLN30hBMs/+4bR227iFVsjvUa9SYp+opRYMtJwRhGmKMprgAVoWWvrK4R4UPXoGtSbD3Ptnsm819xA87BlvHLH1LPfFEJ4qwMtFEK0euetKIoPM94Cy5gxY8JKv8Fm5+D+nfxs4yRyu3VjaMpmnhl3saox2iLjOzqjCBNClCqKskBRlL8rivKaoiiftTVUKFJZWRk2+qcabDy//G36rZvAK47ezE4vZuZll4ZVGty0Vwf6XAjxoBBiDjBH9agScA+OD3X946caeH7p38k4ncbvmgYz5bbtDOw1UNUY7SFDv71m/BxFUabinKKjB6arHvknyu5t7/KC/UmebL6I+emb0PfXBfuR/KI9A21wfRScBgp5hg71b7FI2fp7y6vpV74K494neTnhev5y5wf07916beZQT4M32jOQDueUHbeBvvD2S65Jg9OBKoI8tTkY+0x0lo3fHacwN43UHv9i7bjHeOm6xarH6Awy9M+oAymKcjuQDawGcoAFrnPeMAnnroUGgrzprntCYKjp5+44xLE1t/DfMZ/yXPwzzJz4suoxOosMfW85UD9gWoufFcDrmA/x43aWBTg33oUubLoL6s1MbWpqkj4zFejSzFRd3z703XQrRBWzuPc85l6dSnRUtw5nplZXV0vbdLeqqopdu3aFzsxU11iiFNe/LRdX6NSmu2py6NAh1TV91bfbHaKotEIcWnmxWLeoh1iw/gPVY/iCr/p0dWKhoijxQohTHVsPFEVJA8YrijIJeNeXTXfVYvDgwSGh39hs59n3tnFr2VRM3U9x4awCbhjQuU7MUElDV2jvPdB0RVF+qSjKLzu6WQixTAiRLpyb7m4SAd50tyXuoiaY+jUNNh56YwPTyqdQIk7T7bqvGdVJ83Q2hj/I0G+vFWbCuWSLwbWIlAlnbvKD6k8QQfyneC+PWFPZ7ojlkumFXKEfHuxHkk57BpoKLGhpGEVRfgMsD8RD+UIwV2k9XFVHt0YT+s0T2BJ7LinTvmHkOV2fNRGOK81GzKD6YLG3vJqnVr7F0h5PsXegkZvv2UpUN/nL4QWSn8SgevciToHU//r7k2SseIUVPR4nN+oyJk7/0i/zBCMN/hIxBnK/mwmUvhCC3LWLWBk3n1Wxt/HEo1vo3dO/MceBToMaRMyY6EDy/Ykaqr/L4tmmRbwz+DGem7GYbl2YYhxJREwdyGazSZ05YbPZ6N69O3/94iCHv36IZ+I2UjlpBRePu0/VGLLT4Iv+T6IOVFFRIVW/rPwov/9wD3Xbp/Nw7EbWJa1U1TwgPw0y9CPGQO7+KFnkHyxj+He/4saYfez8xXpmT56pegzZaZChr9WBzkJtYzO1p62c++0dDO1Zz8mJ/yF13CXBfqyQIWIMNGzYMNU1T9Y2Muf1T3miaRb2nn0Yn3aI2Fid6nHcyEiDbP2IKcLUbgwcMdcxe+nbvNB4F8WO/vSdvE2qeUD9NARCP2IM5B6DoxZL/7mKvypz+JyLmDLnW6i1qKrvDbXTEAj9iCnC1OLEqQYsh1bzhOUR3ul1I2mz1xDfMxoJOyVFBBFjoP79+/utseHb47yV+1sWx63iQHImj1/zkqr6Z0N2DBn6EVOEDRjg3+JL7+cf4Z+rH2BR7CqWJj7LlS3Mo4Z+Z5AdQ4Z+xBjIn47Co9Z6vv1sOhlxa3l76N944b4XVdXvLOHYmRoxRZgvOByC6roGSj++lrtiC1l34fs8M/mOYD9WWBExBurqJiI2u4PM979hwpFURkRXk3jvHub0G62avi/IjiFDP2KKsNGj2//jt6WuqZn0Nz5n8qHJ9BC1nJ68gwEdmKer+r4iO4YM/YgxUFcGjC9Zt4GHzLdxjDgGTStmwgVnX3dZ9oD3QMQI5KD6TqMoSrYQIr3F3qhBmdrsnqjXETUNNk6f3MHUklvZEDOKa2d8xfnn9FVN319kx5Chr0YOZHX9G9SpzWfj+xM1PPCXPyHem8DBYZN54PHdnTaPRvuoWYlud9dmEYCpzcOGDWt3anOJ1c6ar1byao+lLLTfzIwRc2lqaurS1Gb3QCyZm+4KIaRObRZChOTU5oUiBKY2l5aWej1/utEmHn7xTnE8SxFP/+1BUdfYrKq+msiO4as+kvdM1bsmH2YHc2qz1XpmmAabnd0b7ue5Hu/zar8/8NLM5+jezn6ivuirjewYMvTV2De+7bKihe0cB5QVW0o4vW06v+peRN3t6/ij/rpgPUpEEzHN+BEjnAvJCiFYsHYPfJXCfyu7+cr4CeerYB63vkxkx5ChHzFvopuamgDI2V7MqKJfkhBVR/EVW/j1VZerqi8T2TFk6EdMDvTD4TJqasq5IH8CPaOhaXIhM1QyD+BpFclEdgwZ+hFhoOp6Gws37uDwsvOxxA3iusfLuP5i+V0PGhFgoIrqetKXLmGheJC1TaMwzthJ9+7qr0IxcOBA1TUDHUOGflgbyOEQZC7/A4sdT7LKcTUzHtxO3zg5S6QkJCRI0Q1kDBn6YWugBpudbZsyWcxCsmNmMemaRQzRyRsOIXu7p0DEkKEfdq0wIQQrvzJxfOtdzIouoGry28y7cIan60MjsIRVDlTX1Mxj/7eB2K+u4Ppuu1l70RpGJ92NoijExcVJjS1bPxAxZOiH1eocr320nKv2P8Ru+zn0mvQZU5Llb0OpEearcwgh+GRXGRv/NZvUg+l8EX8Ll87+9gzzRNq23+GiH9J1oGPVDczNWcNN5ocZ3L0eyy2reXS090Hv7qENspCtH4gYMvRD1kCbv6vgg9x7mN/j37zrGIPj2jXcGoBxyRpdI6TqQEIIisqqUU68Q9SWp6m3wer453jyrqcZ1LenF6XW98rc7Ua2fiBi+KofFnWg7aYq0v/2Pxz6h57+Gx+l9qL7GZpeSdac353VPAClpXJ35ZStH4gYMvRDogj7c86r6EvnMT/KwmuOy6m/Mps7rxjbJQ33cE5ZyNYPRAwZ+iFhoPGVWWyyj+TQJX/l6WuM9PFzuVyNwBESBrrmkSNc1tRMXIzvj2MwGFR8osDrByKGDP2QqQP5Yx7As5GcLGTrByKGDP2QMZC/uKewhKt+IGLI0I8YA2kEh6C8B1IUpRKQu8OshpoME0J4XZ0qKAbSiBy0IkzDL0KiGd9VXLNepwNVQJ7rtGqrgrhm2qbgXBxCdf0WcXRAmowYLu2FQIkMfTfhmgOZhBCZgAEJq4IIIUyuL9cqQ78FyUA/STGm4VzwIleSPhCmBmox376ADlYF8SeGoiipODcelqVv5MfcQPUYrv8AmThzISlpgDA1EICiKCmuL8m9BY0OKGtxbPJHXzi3LLfK0sdZBE8DjECdjBhCCBOwAXlpCM9WmKIoaThzByuwDjgFuLcnB9ALP/asVxQlhR+/dDeq6beJtRDIUTuGKwe10jodqqchLA2kETqEbRGmERpoBtLwC81AGn6hGUjDLzQDafiFZiA/URQlzdVk9nZNryhKdqCfKZCEZV9YsHC9f9IBCCGyWlzKUxQlA+d7l0lANjBJCJGpKIo1wI8ZULQcqAu43nxPamMeN1acnZZmIUQeIbRKv0w0A3Udk+tNdXtYA/UgoYBmoC6gKEqaECIdZydlWww4uwrcC6/rA/pwQULryvATV73I7K1fyWWkTJfpIhLNQBp+oRVhGn6hGUjDLzQDafiFZiANv9AMpOEXmoE0/EIzkIZfaAbS8Iv/B+OOsMaI7WHrAAAAAElFTkSuQmCC' width=144.0/>\n",
       "            </div>\n",
       "        "
      ],
      "text/plain": [
       "Canvas(toolbar=Toolbar(toolitems=[('Home', 'Reset original view', 'home', 'home'), ('Back', 'Back to previous …"
      ]
     },
     "metadata": {},
     "output_type": "display_data"
    }
   ],
   "source": [
    "sequences = [\n",
    "    'bunker-road',\n",
    "    'bunker-road-vehicles',\n",
    "    'robin-williams-tunnel',\n",
    "    'brisbane-lagoon-freeway',\n",
    "]\n",
    "sequence = sequences[2]\n",
    "\n",
    "fig, ax = plt.subplots(1, 1, figsize=(2, 2))\n",
    "fig.subplots_adjust(left=0.2, right=0.95, bottom=0.2, top=0.95, wspace=0.25, hspace=0.25)\n",
    "\n",
    "gt_poses = load_gt_poses(osp.join(gt_path, sequence, 'ref_poses.txt'))[60:]\n",
    "ax.plot(gt_poses[:, 0, 3], gt_poses[:, 1, 3], \"--\", label='Ground Truth', linewidth=2.0, dashes=(2, 1))\n",
    "\n",
    "pred_file = 'steam_dicp'\n",
    "pred_poses = load_pred_poses(osp.join(pred_path, pred_file, sequence+'_poses.txt'))[60:]\n",
    "plot_pred_poses(ax, pred_poses, gt_poses, 'STEAM-DICP', 'green')\n",
    "\n",
    "pred_file = 'steam_icp'\n",
    "pred_poses = load_pred_poses(osp.join(pred_path, pred_file, sequence+'_poses.txt'))[60:]\n",
    "plot_pred_poses(ax, pred_poses, gt_poses, 'STEAM-ICP', 'darkorange')\n",
    "\n",
    "ax.set_xlabel('x [m]')\n",
    "ax.set_ylabel('y [m]')\n",
    "ax.grid(which='both', linestyle='--', alpha=0.75)\n",
    "ax.legend(framealpha=0.5, fontsize=5)\n",
    "ax.tick_params(axis=u'both', which=u'both',length=0)\n",
    "\n",
    "# plt.savefig('/home/yuchen/ASRL/notes/2023-icra-wu/figs/seq02_path.pdf', format=\"pdf\", bbox_inches=\"tight\")\n",
    "plt.show()"
   ]
  }
 ],
 "metadata": {
  "kernelspec": {
   "display_name": "Python 3.8.10 ('venv')",
   "language": "python",
   "name": "python3"
  },
  "language_info": {
   "codemirror_mode": {
    "name": "ipython",
    "version": 3
   },
   "file_extension": ".py",
   "mimetype": "text/x-python",
   "name": "python",
   "nbconvert_exporter": "python",
   "pygments_lexer": "ipython3",
   "version": "3.8.10"
  },
  "orig_nbformat": 4,
  "vscode": {
   "interpreter": {
    "hash": "a44c3e6ab00d09cf4834e662fcdb3bfbaa01929724e4ff214c026fb53af95a5a"
   }
  }
 },
 "nbformat": 4,
 "nbformat_minor": 2
}
