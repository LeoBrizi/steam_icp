{
 "cells": [
  {
   "cell_type": "code",
   "execution_count": 1,
   "metadata": {},
   "outputs": [],
   "source": [
    "import os.path as osp\n",
    "import numpy as np\n",
    "import numpy.linalg as npla\n",
    "import scipy.spatial.transform as sptf\n",
    "np.set_printoptions(6, suppress=True)\n",
    "import matplotlib.pyplot as plt\n",
    "%matplotlib inline\n",
    "%matplotlib widget\n",
    "plt.rcParams.update({\n",
    "    \"text.usetex\": True,\n",
    "    \"font.family\": \"serif\",\n",
    "    \"font.serif\": [\"Times\"],\n",
    "    'font.size': 7,\n",
    "})\n",
    "\n",
    "import utils\n",
    "\n",
    "\n",
    "def load_pred_poses(filename):\n",
    "    data = np.loadtxt(filename)\n",
    "    poses = []\n",
    "    for v in data:\n",
    "        T_ms = np.eye(4)\n",
    "        T_ms[:3, :] = v.reshape(3, 4)\n",
    "        poses.append(T_ms)\n",
    "\n",
    "    return np.array(poses)\n",
    "\n",
    "\n",
    "def load_gt_poses(filename):\n",
    "    data = np.loadtxt(filename, delimiter=' ')\n",
    "\n",
    "    poses = []\n",
    "    for tq in data[:, 1:]:\n",
    "        T_mr = np.eye(4)\n",
    "        T_mr[:3, :3] = sptf.Rotation.from_quat(tq[3:]).as_matrix()\n",
    "        T_mr[:3, 3] = tq[:3]\n",
    "        poses.append(T_mr)\n",
    "    return np.array(poses)\n",
    "\n",
    "\n",
    "def plot_pred_poses(ax, pred_poses, gt_poses, label, color):\n",
    "    T_gt_pred = gt_poses[0] @ npla.inv(pred_poses[0])\n",
    "    pred_poses = T_gt_pred @ pred_poses\n",
    "    ax.plot(pred_poses[:, 0, 3], pred_poses[:, 1, 3], label=label, linewidth=1.0, color=color)\n",
    "\n",
    "\n",
    "gt_path = '/media/yuchen/T7/ASRL/data/dicp'\n",
    "pred_path = '/ext0/ASRL/steam_icp/results/dicp/'"
   ]
  },
  {
   "cell_type": "code",
   "execution_count": 2,
   "metadata": {},
   "outputs": [
    {
     "name": "stdout",
     "output_type": "stream",
     "text": [
      "bunker-road:\n",
      "  distance: 865.2771420499731\n",
      "bunker-road-vehicles:\n",
      "  distance: 894.2118417752133\n",
      "robin-williams-tunnel:\n",
      "  distance: 688.9543594186744\n",
      "brisbane-lagoon-freeway:\n",
      "  distance: 4947.117582379512\n"
     ]
    }
   ],
   "source": [
    "### compute trajectory distance\n",
    "sequences = [\n",
    "    'bunker-road',\n",
    "    'bunker-road-vehicles',\n",
    "    'robin-williams-tunnel',\n",
    "    'brisbane-lagoon-freeway',\n",
    "]\n",
    "\n",
    "for sequence in sequences:\n",
    "  print(f\"{sequence}:\")\n",
    "  gt_poses = load_gt_poses(osp.join(gt_path, sequence, 'ref_poses.txt'))\n",
    "  distance = utils.trajectory_distances(gt_poses)[-1]\n",
    "  print(f\"  distance: {distance}\")"
   ]
  },
  {
   "cell_type": "code",
   "execution_count": 6,
   "metadata": {},
   "outputs": [
    {
     "name": "stdout",
     "output_type": "stream",
     "text": [
      "\n",
      "doppler_icp\n",
      "  bunker-road   bunker-road-vehicles   robin-williams-tunnel   brisbane-lagoon-freeway \n",
      "elastic_icp\n",
      "  bunker-road   bunker-road-vehicles   robin-williams-tunnel   brisbane-lagoon-freeway \n",
      "steam_icp\n",
      "  bunker-road   bunker-road-vehicles   robin-williams-tunnel   brisbane-lagoon-freeway \n",
      "steam_dicp_cauchy_tls\n",
      "  bunker-road   bunker-road-vehicles   robin-williams-tunnel   brisbane-lagoon-freeway \n",
      "kitti metric t_err_2d\n",
      "doppler_icp  & 1.10 & 1.04 & 0.57 & 1.15  & 1.11\n",
      "elastic_icp  & 1.99 & 11.04 & 9.07 & 1.10  & 2.76\n",
      "steam_icp  & 1.36 & 11.62 & 22.70 & 1.69  & 3.58\n",
      "steam_dicp_cauchy_tls  & 1.45 & 0.69 & 0.45 & 1.30  & 1.22\n",
      "\n",
      "kitti metric t_err_3d\n",
      "doppler_icp  & 1.66 & 2.60 & 1.03 & 1.72  & 1.80\n",
      "elastic_icp  & 2.83 & 12.26 & 9.11 & 1.54  & 3.35\n",
      "steam_icp  & 2.28 & 12.86 & 22.74 & 2.10  & 4.16\n",
      "steam_dicp_cauchy_tls  & 2.35 & 2.60 & 0.74 & 1.70  & 1.88\n",
      "\n",
      "kitti metric r_err_2d\n",
      "doppler_icp  & 0.0007 & 0.0061 & 0.0028 & 0.0015  & 0.0020\n",
      "elastic_icp  & 0.0014 & 0.0042 & 0.0019 & 0.0014  & 0.0018\n",
      "steam_icp  & 0.0011 & 0.0065 & 0.0024 & 0.0016  & 0.0022\n",
      "steam_dicp_cauchy_tls  & 0.0011 & 0.0052 & 0.0031 & 0.0015  & 0.0020\n",
      "\n",
      "kitti metric r_err_3d\n",
      "doppler_icp  & 0.0330 & 0.0143 & 0.0335 & 0.0064  & 0.0122\n",
      "elastic_icp  & 0.0085 & 0.0148 & 0.0121 & 0.0038  & 0.0062\n",
      "steam_icp  & 0.0078 & 0.0155 & 0.0124 & 0.0040  & 0.0063\n",
      "steam_dicp_cauchy_tls  & 0.0077 & 0.0166 & 0.0137 & 0.0040  & 0.0065\n",
      "\n",
      "frame-to-frame metric t_err_2d\n",
      "doppler_icp  & 0.0150 & 0.0166 & 0.0178 & 0.0226  & 0.0197\n",
      "elastic_icp  & 0.0389 & 0.3750 & 0.2442 & 0.0783  & 0.1821\n",
      "steam_icp  & 0.0536 & 0.4131 & 0.6075 & 0.2887  & 0.3177\n",
      "steam_dicp_cauchy_tls  & 0.0165 & 0.0185 & 0.0256 & 0.0331  & 0.0271\n",
      "\n",
      "frame-to-frame metric r_err_2d\n",
      "doppler_icp  & 0.0187 & 0.0207 & 0.0323 & 0.0194  & 0.0204\n",
      "elastic_icp  & 0.0264 & 0.0319 & 0.0356 & 0.0269  & 0.0283\n",
      "steam_icp  & 0.0209 & 0.0324 & 0.0362 & 0.0399  & 0.0338\n",
      "steam_dicp_cauchy_tls  & 0.0203 & 0.0201 & 0.0292 & 0.0285  & 0.0251\n",
      "\n",
      "frame-to-frame metric t_err_3d\n",
      "doppler_icp  & 0.0246 & 0.0254 & 0.0380 & 0.0494  & 0.0402\n",
      "elastic_icp  & 0.0401 & 0.3753 & 0.2446 & 0.0801  & 0.1827\n",
      "steam_icp  & 0.0541 & 0.4134 & 0.6076 & 0.2892  & 0.3180\n",
      "steam_dicp_cauchy_tls  & 0.0180 & 0.0211 & 0.0299 & 0.0362  & 0.0299\n",
      "\n",
      "frame-to-frame metric r_err_3d\n",
      "doppler_icp  & 0.1357 & 0.1670 & 0.1655 & 0.0827  & 0.1163\n",
      "elastic_icp  & 0.1907 & 0.2865 & 0.1593 & 0.1163  & 0.1675\n",
      "steam_icp  & 0.1322 & 0.1855 & 0.1503 & 0.1195  & 0.1366\n",
      "steam_dicp_cauchy_tls  & 0.1369 & 0.1810 & 0.1498 & 0.1120  & 0.1330\n"
     ]
    }
   ],
   "source": [
    "### compute kitti metric\n",
    "sequences = [\n",
    "    'bunker-road',\n",
    "    'bunker-road-vehicles',\n",
    "    'robin-williams-tunnel',\n",
    "    'brisbane-lagoon-freeway',\n",
    "]\n",
    "methods = [\"doppler_icp\", \"elastic_icp\", \"steam_icp\", \"steam_dicp_cauchy_tls\"]\n",
    "load_gt_fn = lambda sequence: load_gt_poses(osp.join(gt_path, sequence, 'ref_poses.txt'))[60:]\n",
    "load_pred_fn = lambda sequence, pred_file: load_pred_poses(osp.join(pred_path, pred_file, sequence + '_poses.txt'))[60:]\n",
    "utils.print_results(sequences, methods, load_gt_fn, load_pred_fn)"
   ]
  },
  {
   "cell_type": "code",
   "execution_count": 4,
   "metadata": {},
   "outputs": [
    {
     "data": {
      "application/vnd.jupyter.widget-view+json": {
       "model_id": "de5b2ad6a95e4d5397a478faf6b59bcf",
       "version_major": 2,
       "version_minor": 0
      },
      "image/png": "[encoded data removed]",
      "text/html": [
       "\n",
       "            <div style=\"display: inline-block;\">\n",
       "                <div class=\"jupyter-widgets widget-label\" style=\"text-align: center;\">\n",
       "                    Figure\n",
       "                </div>\n",
       "                <img src='data:image/png;base64,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' width=252.0/>\n",
       "            </div>\n",
       "        "
      ],
      "text/plain": [
       "Canvas(toolbar=Toolbar(toolitems=[('Home', 'Reset original view', 'home', 'home'), ('Back', 'Back to previous …"
      ]
     },
     "metadata": {},
     "output_type": "display_data"
    }
   ],
   "source": [
    "sequences = [\n",
    "    'bunker-road',\n",
    "    'bunker-road-vehicles',\n",
    "    'robin-williams-tunnel',\n",
    "    'brisbane-lagoon-freeway',\n",
    "]\n",
    "sequence = sequences[2]\n",
    "\n",
    "fig, ax = plt.subplots(1, 1, figsize=(3.5, 2))\n",
    "fig.subplots_adjust(left=0.2, right=0.95, bottom=0.2, top=0.95, wspace=0.25, hspace=0.25)\n",
    "\n",
    "gt_poses = load_gt_poses(osp.join(gt_path, sequence, 'ref_poses.txt'))[60:]\n",
    "\n",
    "##\n",
    "pred_file = 'steam_dicp_cauchy_tls'\n",
    "pred_poses = load_pred_poses(osp.join(pred_path, pred_file, sequence+'_poses.txt'))[60:]\n",
    "# rpe metric\n",
    "t_err, r_err, pose_errors = utils.evaluate_odometry_rpe(gt_poses, pred_poses, 3)\n",
    "rte = [utils.translation_error(e, 3) for e in pose_errors]\n",
    "ax.plot(rte, label=\"STEAM-DICP\", linewidth=1.0, color='green')\n",
    "\n",
    "##\n",
    "pred_file = 'steam_icp'\n",
    "pred_poses = load_pred_poses(osp.join(pred_path, pred_file, sequence+'_poses.txt'))[60:]\n",
    "# rpe metric\n",
    "t_err, r_err, pose_errors = utils.evaluate_odometry_rpe(gt_poses, pred_poses, 3)\n",
    "rte = [utils.translation_error(e, 3) for e in pose_errors]\n",
    "ax.plot(rte, label=\"STEAM-ICP\", linewidth=1.0, color='darkorange')\n",
    "\n",
    "ax.set_ylabel('Frame-to-Frame RTE [m]')\n",
    "ax.set_xlabel('Frame')\n",
    "ax.grid(which='both', linestyle='--', alpha=0.75)\n",
    "ax.tick_params(axis=u'both', which=u'both',length=0)\n",
    "ax.legend(framealpha=0.5, fontsize=5)\n",
    "\n",
    "# plt.savefig('/home/yuchen/ASRL/notes/2023-icra-wu/figs/dicp_result/seq02_local_rte.pdf', format=\"pdf\", bbox_inches=\"tight\")\n",
    "plt.show()"
   ]
  },
  {
   "cell_type": "code",
   "execution_count": 5,
   "metadata": {},
   "outputs": [
    {
     "data": {
      "application/vnd.jupyter.widget-view+json": {
       "model_id": "103b06bb9218494f9b6e1a3a6b465603",
       "version_major": 2,
       "version_minor": 0
      },
      "image/png": "[encoded data removed]",
      "text/html": [
       "\n",
       "            <div style=\"display: inline-block;\">\n",
       "                <div class=\"jupyter-widgets widget-label\" style=\"text-align: center;\">\n",
       "                    Figure\n",
       "                </div>\n",
       "                <img src='data:image/png;base64,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' width=144.0/>\n",
       "            </div>\n",
       "        "
      ],
      "text/plain": [
       "Canvas(toolbar=Toolbar(toolitems=[('Home', 'Reset original view', 'home', 'home'), ('Back', 'Back to previous …"
      ]
     },
     "metadata": {},
     "output_type": "display_data"
    }
   ],
   "source": [
    "sequences = [\n",
    "    'bunker-road',\n",
    "    'bunker-road-vehicles',\n",
    "    'robin-williams-tunnel',\n",
    "    'brisbane-lagoon-freeway',\n",
    "]\n",
    "sequence = sequences[2]\n",
    "\n",
    "fig, ax = plt.subplots(1, 1, figsize=(2, 2))\n",
    "fig.subplots_adjust(left=0.2, right=0.95, bottom=0.2, top=0.95, wspace=0.25, hspace=0.25)\n",
    "\n",
    "gt_poses = load_gt_poses(osp.join(gt_path, sequence, 'ref_poses.txt'))[60:]\n",
    "ax.plot(gt_poses[:, 0, 3], gt_poses[:, 1, 3], \"--\", label='Ground Truth', linewidth=2.0, dashes=(2, 1))\n",
    "\n",
    "pred_file = 'steam_dicp_cauchy_tls'\n",
    "pred_poses = load_pred_poses(osp.join(pred_path, pred_file, sequence + '_poses.txt'))[60:]\n",
    "plot_pred_poses(ax, pred_poses, gt_poses, 'STEAM-DICP', 'green')\n",
    "\n",
    "pred_file = 'steam_icp'\n",
    "pred_poses = load_pred_poses(osp.join(pred_path, pred_file, sequence + '_poses.txt'))[60:]\n",
    "plot_pred_poses(ax, pred_poses, gt_poses, 'STEAM-ICP', 'darkorange')\n",
    "\n",
    "ax.set_xlabel('x [m]')\n",
    "ax.set_ylabel('y [m]')\n",
    "ax.grid(which='both', linestyle='--', alpha=0.75)\n",
    "ax.legend(framealpha=0.5, fontsize=5)\n",
    "ax.tick_params(axis=u'both', which=u'both', length=0)\n",
    "\n",
    "# plt.savefig('/home/yuchen/ASRL/notes/2023-icra-wu/figs/dicp_result/seq02_path.pdf', format=\"pdf\", bbox_inches=\"tight\")\n",
    "plt.show()"
   ]
  }
 ],
 "metadata": {
  "kernelspec": {
   "display_name": "Python 3.8.10 ('venv')",
   "language": "python",
   "name": "python3"
  },
  "language_info": {
   "codemirror_mode": {
    "name": "ipython",
    "version": 3
   },
   "file_extension": ".py",
   "mimetype": "text/x-python",
   "name": "python",
   "nbconvert_exporter": "python",
   "pygments_lexer": "ipython3",
   "version": "3.8.10"
  },
  "orig_nbformat": 4,
  "vscode": {
   "interpreter": {
    "hash": "a44c3e6ab00d09cf4834e662fcdb3bfbaa01929724e4ff214c026fb53af95a5a"
   }
  }
 },
 "nbformat": 4,
 "nbformat_minor": 2
}
